{
  "cells": [
    {
      "cell_type": "markdown",
      "metadata": {
        "id": "QxdMUQwuOfUZ"
      },
      "source": [
        "\n",
        "#**DHA Suffa University**\n",
        "##**Department of Computer Science**\n",
        "##**CS 31002L – Artificial Intelligence Lab**\n",
        "##**Spring 2023**\n",
        "\n",
        "\n",
        "---\n",
        "\n",
        "\n",
        "##***Lab 01-Introduction to Python Basics***\n",
        "\n",
        "\n",
        "---\n",
        "###**Learning Objectives:**\n",
        "\n",
        "*   To learn and Implement Python Basics\n",
        "\n",
        "\n",
        "\n",
        "\n"
      ]
    },
    {
      "cell_type": "markdown",
      "metadata": {
        "id": "ADl94n5vQBH3"
      },
      "source": [
        "###**Introduction to Python**\n",
        "\n",
        "\n",
        "\n",
        "*   Created in 1991 by Guido van Rossum, it's been rising in popularity\n",
        "*   All you need is to install the official package from python.org, for Windows, macOS or Linux, and you're ready to go.\n",
        "*   Python is an interpreted language that does not have an intermediate compilation phase like a compiled language, for example C or Java.\n",
        "*   Python excels in a wide variety of scenarios – Shell scripting, task automation, and Web development are just some basic examples.\n",
        "*   Python is the language of choice for data analysis and machine learning, but it can also adapt to create games and work with embedded devices.\n",
        "*   And like many interpreted languages, it is dynamically typed. This means that you do not have to indicate the types of the variables you use, and variables are not tied to a specific type.\n",
        "*   Python supports a wide variety of different programming paradigms, including procedural programming, object oriented programming, and functional programming. It's flexible enough to adapt to a lot of different needs.\n",
        "\n",
        "\n",
        "\n"
      ]
    },
    {
      "cell_type": "markdown",
      "metadata": {
        "id": "wdI9K1bDSrDt"
      },
      "source": [
        "###**Python Basics**\n",
        "####**Variables in Python**\n",
        "We can create a new Python variable by assigning a value to a label, using the = assignment operator.\n",
        "\n",
        "In this example we assign a string with the value \"Roger\" to the name label:"
      ]
    },
    {
      "cell_type": "code",
      "execution_count": null,
      "metadata": {
        "id": "jhnIXCBPPB5d",
        "outputId": "c7e91ccd-e6bb-4144-9119-da9a49810739",
        "colab": {
          "base_uri": "https://localhost:8080/"
        }
      },
      "outputs": [
        {
          "output_type": "stream",
          "name": "stdout",
          "text": [
            "Roger\n",
            "8\n"
          ]
        }
      ],
      "source": [
        "name = \"Roger\"\n",
        "age = 8\n",
        "print(name)\n",
        "print(age)"
      ]
    },
    {
      "cell_type": "markdown",
      "source": [
        "##**Expressions and statements in Python**\n",
        "\n",
        "\n",
        "We can expression any sort of code that returns a value. For example"
      ],
      "metadata": {
        "id": "PJtqGldiS105"
      }
    },
    {
      "cell_type": "code",
      "source": [
        "1 + 1\n",
        "\"Roger\""
      ],
      "metadata": {
        "id": "gnAvlHDUT_sE"
      },
      "execution_count": null,
      "outputs": []
    },
    {
      "cell_type": "markdown",
      "source": [
        "A statement, on the other hand, is an operation on a value. For example these are 2 statements:"
      ],
      "metadata": {
        "id": "FVXntNzyUEh1"
      }
    },
    {
      "cell_type": "code",
      "source": [
        "name = \"Roger\"\n",
        "print(name)"
      ],
      "metadata": {
        "id": "Jqz-5JfdUKWF"
      },
      "execution_count": null,
      "outputs": []
    },
    {
      "cell_type": "markdown",
      "source": [
        "##**Comments**\n",
        "\n",
        "In a Python program, everything after a hash mark is ignored, and considered a comment:"
      ],
      "metadata": {
        "id": "DkFwB3TBUgw0"
      }
    },
    {
      "cell_type": "code",
      "source": [
        "#this is a commented line\n",
        "\n",
        "name = \"Roger\" # this is an inline comment"
      ],
      "metadata": {
        "id": "2f8WtNDfUkMX"
      },
      "execution_count": null,
      "outputs": []
    },
    {
      "cell_type": "markdown",
      "source": [
        "##**Indentation in Python**\n",
        "\n",
        "Indentation in Python is meaningful.\n",
        "\n",
        "You cannot indent randomly like this:"
      ],
      "metadata": {
        "id": "RTsrUuKRUnMo"
      }
    },
    {
      "cell_type": "code",
      "source": [
        "name = \"Flavio\"\n",
        "   print(name)"
      ],
      "metadata": {
        "id": "_T0YbhF3Uyln"
      },
      "execution_count": null,
      "outputs": []
    },
    {
      "cell_type": "markdown",
      "source": [
        "Some other languages do not have meaningful whitespace, but in Python, indentation matters.\n",
        "\n",
        "In this case, if you try to run this program you would get a IndentationError: unexpected indent error, because indenting has a special meaning."
      ],
      "metadata": {
        "id": "C3jzlHigU1ML"
      }
    },
    {
      "cell_type": "markdown",
      "source": [
        "##**Data Types in Python**\n",
        "\n",
        "Python has several built-in types.\n",
        "\n",
        "If you create the name variable assigning it the value \"Roger\", automatically this variable now represents a String data type."
      ],
      "metadata": {
        "id": "cJ2mWSeMU-TV"
      }
    },
    {
      "cell_type": "code",
      "source": [
        "name = \"Roger\""
      ],
      "metadata": {
        "id": "LMEspB0jVH-g"
      },
      "execution_count": null,
      "outputs": []
    },
    {
      "cell_type": "markdown",
      "source": [
        "You can check the type of a variable by using the type() function, passing the variable as an argument, and then comparing the result to str:"
      ],
      "metadata": {
        "id": "SwYlPdmaVTQd"
      }
    },
    {
      "cell_type": "code",
      "source": [
        "name = \"Roger\"\n",
        "type(name) == str #True"
      ],
      "metadata": {
        "id": "ZBZH2JA9VXT7"
      },
      "execution_count": null,
      "outputs": []
    },
    {
      "cell_type": "markdown",
      "source": [
        "Or using isinstance():"
      ],
      "metadata": {
        "id": "mC60myxEVade"
      }
    },
    {
      "cell_type": "code",
      "source": [
        "name = \"Roger\"\n",
        "isinstance(name, str) #True"
      ],
      "metadata": {
        "id": "JgYyvsU6VeKi"
      },
      "execution_count": null,
      "outputs": []
    },
    {
      "cell_type": "markdown",
      "source": [
        "First, we have numbers. Integer numbers are represented using the int class. Floating point numbers (fractions) are of type float:"
      ],
      "metadata": {
        "id": "MGndVKPvVmvd"
      }
    },
    {
      "cell_type": "code",
      "source": [
        "age = 1\n",
        "type(age) == int #True"
      ],
      "metadata": {
        "id": "k22lxvsTVofS"
      },
      "execution_count": null,
      "outputs": []
    },
    {
      "cell_type": "code",
      "source": [
        "fraction = 0.1\n",
        "type(fraction) == float #True"
      ],
      "metadata": {
        "id": "Mq26oc-kVrtW"
      },
      "execution_count": null,
      "outputs": []
    },
    {
      "cell_type": "markdown",
      "source": [
        "You can also convert from one type to another by using the class constructor. Python will try to determine the correct value, for example extracting a number from a string:"
      ],
      "metadata": {
        "id": "5b4CeSvOWDsw"
      }
    },
    {
      "cell_type": "code",
      "source": [
        "age = int(\"20\")\n",
        "print(age)"
      ],
      "metadata": {
        "id": "mgKhjM_YWFPh"
      },
      "execution_count": null,
      "outputs": []
    },
    {
      "cell_type": "markdown",
      "source": [
        "This is called casting. Of course this conversion might not always work depending on the value passed. If you write test instead of 20 in the above string, you'll get a ValueError: invalid literal for int() with base 10: 'test' error.\n",
        "\n",
        "Those are just the basics of types. We have a lot more types in Python:\n",
        "\n",
        "*   complex for complex numbers\n",
        "*   bool for booleans\n",
        "*   list for lists\n",
        "*   tuple for tuples\n",
        "*   range for ranges\n",
        "*   dict for dictionaries\n",
        "*   set for sets\n",
        "and more!\n",
        "\n",
        "##**Operators in Python**\n",
        "\n",
        "Python operators are symbols that we use to run operations upon values and variables.\n",
        "\n",
        "We can divide operators based on the kind of operation they perform:\n",
        "*  assignment operator\n",
        "*  arithmetic operators\n",
        "*  comparison operators\n",
        "*  logical operators\n",
        "*  bitwise operators\n",
        "plus some interesting ones like is and in.\n",
        "\n",
        "##**Assignment operator in Python**\n",
        "\n",
        "The assignment operator is used to assign a value to a variable:\n"
      ],
      "metadata": {
        "id": "DKPXW-haWILO"
      }
    },
    {
      "cell_type": "code",
      "source": [
        "age = 8\n",
        "anotherVariable = age"
      ],
      "metadata": {
        "id": "3l9XKvtxXYrr"
      },
      "execution_count": null,
      "outputs": []
    },
    {
      "cell_type": "markdown",
      "source": [
        "## **Arithmetic operators in Python**\n",
        "\n",
        "Python has a number of arithmetic operators: +, -, *, / (division), % (remainder), ** (exponentiation) and // (floor division):"
      ],
      "metadata": {
        "id": "ACopP92PXioX"
      }
    },
    {
      "cell_type": "code",
      "source": [
        "1 + 1 #2\n",
        "2 - 1 #1\n",
        "2 * 2 #4\n",
        "4 / 2 #2\n",
        "4 % 3 #1\n",
        "4 ** 2 #16\n",
        "4 // 2 #2"
      ],
      "metadata": {
        "id": "nQaWr9hqXlnx"
      },
      "execution_count": null,
      "outputs": []
    },
    {
      "cell_type": "markdown",
      "source": [
        " (-) also works as a unary minus operator:"
      ],
      "metadata": {
        "id": "bMeIQdohX2u4"
      }
    },
    {
      "cell_type": "code",
      "source": [
        "print(-4) #-4"
      ],
      "metadata": {
        "id": "eNPzro3mX3_A"
      },
      "execution_count": null,
      "outputs": []
    },
    {
      "cell_type": "markdown",
      "source": [
        "(+) is also used to concatenate String values:"
      ],
      "metadata": {
        "id": "8p5b-TZpX_CU"
      }
    },
    {
      "cell_type": "code",
      "source": [
        "\"Roger\" + \" is a good dog\"\n",
        "#Roger is a good dog"
      ],
      "metadata": {
        "id": "DdvYdnW5YCoW"
      },
      "execution_count": null,
      "outputs": []
    },
    {
      "cell_type": "markdown",
      "source": [
        "We can combine the assignment operator with arithmetic operators:\n",
        "\n",
        "- +=\n",
        "- -=\n",
        "- *=\n",
        "- /=\n",
        "- %="
      ],
      "metadata": {
        "id": "21VTXgnzYKY5"
      }
    },
    {
      "cell_type": "code",
      "source": [
        "age = 8\n",
        "age += 1\n",
        "# age is now 9"
      ],
      "metadata": {
        "id": "fOkLzuVrYXdy"
      },
      "execution_count": null,
      "outputs": []
    },
    {
      "cell_type": "markdown",
      "source": [
        "## **Comparison operators in Python**\n",
        "\n",
        "Python defines a few comparison operators:\n",
        "\n",
        "- ==\n",
        "- !=\n",
        "- <\n",
        "- <=\n",
        "\n",
        "You can use those operators to get a boolean value (True or False) depending on the result:"
      ],
      "metadata": {
        "id": "1vaweZjCYYjM"
      }
    },
    {
      "cell_type": "code",
      "source": [
        "a = 1\n",
        "b = 2\n",
        "\n",
        "a == b #False\n",
        "a != b #True\n",
        "a > b #False\n",
        "a <= b #True"
      ],
      "metadata": {
        "id": "LhfTwzcWYxlJ"
      },
      "execution_count": null,
      "outputs": []
    },
    {
      "cell_type": "markdown",
      "source": [
        "## **Boolean operators in Python**\n",
        "\n",
        "Python gives us the following boolean operators:"
      ],
      "metadata": {
        "id": "cEQovLr2Y7-Q"
      }
    },
    {
      "cell_type": "code",
      "source": [
        "condition1 = True\n",
        "condition2 = False\n",
        "\n",
        "not condition1 #False\n",
        "condition1 and condition2 #False\n",
        "condition1 or condition2 #True"
      ],
      "metadata": {
        "id": "NR_Ra5DFY-a3"
      },
      "execution_count": null,
      "outputs": []
    },
    {
      "cell_type": "markdown",
      "source": [
        "## **Bitwise operators in Python**\n",
        "\n",
        "Some operators are used to work on bits and binary numbers:\n",
        "\n",
        "- & performs binary AND\n",
        "- | performs binary OR\n",
        "- ^ performs a binary XOR operation\n",
        "- ~ performs a binary NOT operation\n",
        "- << shift left operation\n",
        "\n",
        "Bitwise operators are rarely used, only in very specific situations, but they are worth mentioning.\n",
        "\n",
        "##**'is' and 'in' in Python**\n",
        "\n",
        "is is called the identity operator. It is used to compare two objects and returns true if both are the same object. More on objects later.\n",
        "\n",
        "in is called the membership operator. Is used to tell if a value is contained in a list, or another sequence. More on lists and other sequences later."
      ],
      "metadata": {
        "id": "Wm0AztbVZLGC"
      }
    },
    {
      "cell_type": "markdown",
      "source": [
        "## **The Ternary Operator in Python**\n",
        "The ternary operator in Python allows you to quickly define a conditional.\n",
        "\n",
        "Let's say you have a function that compares an age variable to the 18 value, and returns True or False depending on the result.\n",
        "\n",
        "Instead of writing:"
      ],
      "metadata": {
        "id": "oY8ZyCoAdk71"
      }
    },
    {
      "cell_type": "code",
      "source": [
        "def is_adult(age):\n",
        "    if age > 18:\n",
        "        return True\n",
        "    else:\n",
        "        return False"
      ],
      "metadata": {
        "id": "dwY1qjNldoKF"
      },
      "execution_count": null,
      "outputs": []
    },
    {
      "cell_type": "markdown",
      "source": [
        "You can implement it with the ternary operator in this way:\n",
        "\n"
      ],
      "metadata": {
        "id": "iKu5Sxrydttd"
      }
    },
    {
      "cell_type": "code",
      "source": [
        "def is_adult(age):\n",
        "    return True if age > 18 else False"
      ],
      "metadata": {
        "id": "qR5hm64Hdu6j"
      },
      "execution_count": null,
      "outputs": []
    },
    {
      "cell_type": "markdown",
      "source": [
        "## **Strings in Python**\n",
        "A string in Python is a series of characters enclosed in quotes or double quotes:"
      ],
      "metadata": {
        "id": "GLs46Kjkd9xI"
      }
    },
    {
      "cell_type": "code",
      "source": [
        "\"Roger\"\n",
        "'Roger'\n"
      ],
      "metadata": {
        "id": "X6Zn2LeveAhf"
      },
      "execution_count": null,
      "outputs": []
    },
    {
      "cell_type": "markdown",
      "source": [
        "You can concatenate two strings using the + operator:"
      ],
      "metadata": {
        "id": "qugCH1wKhJe_"
      }
    },
    {
      "cell_type": "code",
      "source": [
        "phrase = \"Roger\" + \" is a good dog\""
      ],
      "metadata": {
        "id": "UplivA4chKvW"
      },
      "execution_count": null,
      "outputs": []
    },
    {
      "cell_type": "markdown",
      "source": [
        "You can append to a string using +=:"
      ],
      "metadata": {
        "id": "RqB1rOqVhNJw"
      }
    },
    {
      "cell_type": "code",
      "source": [
        "name = \"Roger\"\n",
        "name += \" is a good dog\"\n",
        "\n",
        "print(name) #Roger is a good dog"
      ],
      "metadata": {
        "id": "cyboO7dthQ2T"
      },
      "execution_count": null,
      "outputs": []
    },
    {
      "cell_type": "markdown",
      "source": [
        "You can convert a number to a string using the str class constructor:"
      ],
      "metadata": {
        "id": "eoW8YYzchYgC"
      }
    },
    {
      "cell_type": "code",
      "source": [
        "print(\"Roger is \" + str(8) + \" years old\") #Roger is 8 years old"
      ],
      "metadata": {
        "id": "iftlZEZThZYt"
      },
      "execution_count": null,
      "outputs": []
    },
    {
      "cell_type": "markdown",
      "source": [
        "A string can be multi-line when defined with a special syntax, enclosing the string in a set of 3 quotes:"
      ],
      "metadata": {
        "id": "uPXbwZ-ZhiMD"
      }
    },
    {
      "cell_type": "code",
      "source": [
        "print(\"\"\"Roger is\n",
        "\n",
        "    8\n",
        "\n",
        "years old\n",
        "\"\"\")\n",
        "\n",
        "#double quotes, or single quotes\n",
        "\n",
        "print('''\n",
        "Roger is\n",
        "\n",
        "    8\n",
        "\n",
        "years old\n",
        "''')"
      ],
      "metadata": {
        "id": "ZfYyRhc_hjZ0"
      },
      "execution_count": null,
      "outputs": []
    },
    {
      "cell_type": "markdown",
      "source": [
        "A string has a set of built-in methods, like:\n",
        "\n",
        "* isalpha() to check if a string contains only characters and is not empty\n",
        "* isalnum() to check if a string contains characters or digits and is not empty\n",
        "* isdecimal() to check if a string contains digits and is not empty\n",
        "* lower() to get a lowercase version of a string\n",
        "* islower() to check if a string is lowercase\n",
        "* upper() to get an uppercase version of a string\n",
        "* isupper() to check if a string is uppercase\n",
        "* title() to get a capitalized version of a string\n",
        "* startsswith() to check if the string starts with a specific substring\n",
        "* endswith() to check if the string ends with a specific substring\n",
        "* replace() to replace a part of a string\n",
        "* split() to split a string on a specific character separator\n",
        "* strip() to trim the whitespace from a string\n",
        "* join() to append new letters to a string\n",
        "* find() to find the position of a substring\n",
        "and many more."
      ],
      "metadata": {
        "id": "MEhwL1INhzD5"
      }
    },
    {
      "cell_type": "code",
      "source": [
        "name = \"Roger\"\n",
        "print(name.lower()) #\"roger\"\n",
        "print(name) #\"Roger\""
      ],
      "metadata": {
        "id": "BGWpGDOmiRJi"
      },
      "execution_count": null,
      "outputs": []
    },
    {
      "cell_type": "code",
      "source": [
        "name = \"Roger\"\n",
        "print(len(name)) #5"
      ],
      "metadata": {
        "id": "_W4oPVcHiTcE"
      },
      "execution_count": null,
      "outputs": []
    },
    {
      "cell_type": "markdown",
      "source": [
        "The in operator lets you check if a string contains a substring:"
      ],
      "metadata": {
        "id": "T47sVKcXiafT"
      }
    },
    {
      "cell_type": "code",
      "source": [
        "name = \"Roger\"\n",
        "print(\"ger\" in name) #True"
      ],
      "metadata": {
        "id": "q0qUKEjwibZP"
      },
      "execution_count": null,
      "outputs": []
    },
    {
      "cell_type": "markdown",
      "source": [
        "Given a string, you can get its characters using square brackets to get a specific item, given its index, starting from 0:"
      ],
      "metadata": {
        "id": "DsVf9Xkciiwn"
      }
    },
    {
      "cell_type": "code",
      "source": [
        "name = \"Roger\"\n",
        "name[0] #'R'\n",
        "name[1] #'o'\n",
        "name[2] #'g'"
      ],
      "metadata": {
        "id": "ts0jICl2ijaM"
      },
      "execution_count": null,
      "outputs": []
    },
    {
      "cell_type": "markdown",
      "source": [
        "You can also use a range, using what we call slicing:"
      ],
      "metadata": {
        "id": "DkPmyqLbiurp"
      }
    },
    {
      "cell_type": "code",
      "source": [
        "name = \"Roger\"\n",
        "name[0:2] #\"Ro\"\n",
        "name[:2] #\"Ro\"\n",
        "name[2:] #\"ger\""
      ],
      "metadata": {
        "id": "-UyGkLEjivdh"
      },
      "execution_count": null,
      "outputs": []
    },
    {
      "cell_type": "markdown",
      "source": [
        "## **Booleans in Python**\n",
        "Python provides the bool type, which can have two values: True and False (capitalized)."
      ],
      "metadata": {
        "id": "VypqSL0yjDFW"
      }
    },
    {
      "cell_type": "code",
      "source": [
        "done = True\n",
        "\n",
        "if done:\n",
        "    print(\"Hello\")"
      ],
      "metadata": {
        "colab": {
          "base_uri": "https://localhost:8080/"
        },
        "id": "ZEwYokeAjGR4",
        "outputId": "3c00bdc5-b3a0-4e49-a2d3-22aa4be542ea"
      },
      "execution_count": null,
      "outputs": [
        {
          "output_type": "stream",
          "name": "stdout",
          "text": [
            "Hello\n"
          ]
        }
      ]
    },
    {
      "cell_type": "markdown",
      "source": [
        "The global any() function is also very useful when working with booleans, as it returns True if any of the values of the iterable (list, for example) passed as argument are True:"
      ],
      "metadata": {
        "id": "Ylz6YNVQjmte"
      }
    },
    {
      "cell_type": "code",
      "source": [
        "book_1_read = True\n",
        "book_2_read = False\n",
        "\n",
        "read_any_book = any([book_1_read, book_2_read])"
      ],
      "metadata": {
        "id": "XQVhWZbpjn7p"
      },
      "execution_count": null,
      "outputs": []
    },
    {
      "cell_type": "markdown",
      "source": [
        "The global all() function is same, but returns True if all of the values passed to it are True:"
      ],
      "metadata": {
        "id": "7OU3E4C5jqii"
      }
    },
    {
      "cell_type": "code",
      "source": [
        "ingredients_purchased = True\n",
        "meal_cooked = False\n",
        "\n",
        "ready_to_serve = all([ingredients_purchased, meal_cooked])"
      ],
      "metadata": {
        "id": "9OhvJQEqjtuV"
      },
      "execution_count": null,
      "outputs": []
    },
    {
      "cell_type": "markdown",
      "source": [
        "## **Complex numbers in Python**\n",
        "Complex numbers are of type complex.\n",
        "\n",
        "You can define them using a value literal:"
      ],
      "metadata": {
        "id": "V0NU3teJj2Kj"
      }
    },
    {
      "cell_type": "code",
      "source": [
        "complexNumber = 2+3j"
      ],
      "metadata": {
        "id": "hg-rsoECj4co"
      },
      "execution_count": null,
      "outputs": []
    },
    {
      "cell_type": "markdown",
      "source": [
        "or using the complex() constructor:"
      ],
      "metadata": {
        "id": "NQzCbct9j6pC"
      }
    },
    {
      "cell_type": "code",
      "source": [
        "complexNumber = complex(2, 3)"
      ],
      "metadata": {
        "id": "LBHr4FqWj9k6"
      },
      "execution_count": null,
      "outputs": []
    },
    {
      "cell_type": "markdown",
      "source": [
        "Once you have a complex number, you can get its real and imaginary part:"
      ],
      "metadata": {
        "id": "lelUU79TkFQT"
      }
    },
    {
      "cell_type": "code",
      "source": [
        "complexNumber.real #2.0\n",
        "complexNumber.imag #3.0"
      ],
      "metadata": {
        "id": "teLuVTiPkGfu"
      },
      "execution_count": null,
      "outputs": []
    },
    {
      "cell_type": "markdown",
      "source": [
        "## **Built-in Functions in Python**\n",
        "There are 2 built-in functions that help with numbers:\n",
        "\n",
        "abs() returns the absolute value of a number.\n",
        "\n",
        "round() given a number, returns its value rounded to the nearest integer.\n",
        "You can specify a second parameter to set the decimal point's precision."
      ],
      "metadata": {
        "id": "xmYd4Gbckari"
      }
    },
    {
      "cell_type": "code",
      "source": [
        "round(0.12, 1) #0.1"
      ],
      "metadata": {
        "id": "qVbtXHAIkeQv"
      },
      "execution_count": null,
      "outputs": []
    },
    {
      "cell_type": "markdown",
      "source": [
        "Several other math utility functions and constants are provided by the Python standard library:\n",
        "\n",
        "* the math package provides general math functions and constants\n",
        "* the cmath package provides utilities to work with complex numbers.\n",
        "* the decimal package provides utilities to work with decimals and floating point numbers.\n",
        "* the fractions package provides utilities to work with rational numbers.\n",
        "\n",
        "## **Constants in Python**\n",
        "Python has no way to enforce that a variable should be a constant.\n",
        "\n",
        "The nearest you can get is to use an enum:"
      ],
      "metadata": {
        "id": "3YL5xux5kshb"
      }
    },
    {
      "cell_type": "code",
      "source": [
        "class Constants(Enum):\n",
        "    WIDTH = 1024\n",
        "    HEIGHT = 256"
      ],
      "metadata": {
        "id": "LXUJcwEwlAJW"
      },
      "execution_count": null,
      "outputs": []
    },
    {
      "cell_type": "markdown",
      "source": [
        "And get to each value using, for example, Constants.WIDTH.value.\n",
        "\n",
        "No one can reassign that value.\n",
        "\n",
        "## **Enums in Python**\n",
        "Enums are readable names that are bound to a constant value.\n",
        "\n",
        "To use enums, import Enum from the enum standard library module.\n",
        "Then you can initialize a new enum in this way."
      ],
      "metadata": {
        "id": "fykdBgZjlJDb"
      }
    },
    {
      "cell_type": "code",
      "source": [
        "from enum import Enum\n",
        "class State(Enum):\n",
        "    INACTIVE = 0\n",
        "    ACTIVE = 1"
      ],
      "metadata": {
        "id": "XWkLi09wldf5"
      },
      "execution_count": null,
      "outputs": []
    },
    {
      "cell_type": "markdown",
      "source": [
        "Once you do so, you can reference State.INACTIVE and State.ACTIVE, and they serve as constants.\n",
        "\n",
        "Now if you try to print State.ACTIVE for example:"
      ],
      "metadata": {
        "id": "8_XAS4Xll1P9"
      }
    },
    {
      "cell_type": "code",
      "source": [
        "print(State.ACTIVE)"
      ],
      "metadata": {
        "id": "XIgfO4Mgl3XK"
      },
      "execution_count": null,
      "outputs": []
    },
    {
      "cell_type": "markdown",
      "source": [
        "it will not return 1, but State.ACTIVE.\n",
        "\n",
        "The same value can be reached by the number assigned in the enum: print(State(1)) will return State.ACTIVE. Same for using the square brackets notation State['ACTIVE'].\n",
        "\n",
        "You can, however, get the value using State.ACTIVE.value.\n",
        "You can list all the possible values of an enum:\n",
        "\n"
      ],
      "metadata": {
        "id": "qTHodXlPl6ew"
      }
    },
    {
      "cell_type": "code",
      "source": [
        "list(State) # [<State.INACTIVE: 0>, <State.ACTIVE: 1>]"
      ],
      "metadata": {
        "id": "wuswqg4mmGHN"
      },
      "execution_count": null,
      "outputs": []
    },
    {
      "cell_type": "markdown",
      "source": [
        "You can count them:"
      ],
      "metadata": {
        "id": "HO2PpwVYmJCO"
      }
    },
    {
      "cell_type": "code",
      "source": [
        "len(State) #2"
      ],
      "metadata": {
        "id": "TXGspqzrmKoI"
      },
      "execution_count": null,
      "outputs": []
    },
    {
      "cell_type": "markdown",
      "source": [
        "## **User Input in Python**\n",
        "In a Python command line application you can display information to the user using the print() function.\n",
        "We can also accept input from the user, using input()."
      ],
      "metadata": {
        "id": "YYIDI6AWmatz"
      }
    },
    {
      "cell_type": "code",
      "source": [
        "print('What is your age?')\n",
        "age = input()\n",
        "print('Your age is ' + age)\n"
      ],
      "metadata": {
        "id": "OeODtn1hmjty"
      },
      "execution_count": null,
      "outputs": []
    },
    {
      "cell_type": "markdown",
      "source": [
        "## **Control Statements in Python**\n",
        "When you're dealing with booleans, and expressions that return a boolean in particular, we can make decisions and take different roads depending on their True or False values.\n",
        "\n",
        "In Python we do so using the if statement:"
      ],
      "metadata": {
        "id": "jNBjDDR10-f0"
      }
    },
    {
      "cell_type": "code",
      "source": [
        "condition = True\n",
        "\n",
        "if condition == True:\n",
        "    print(\"The condition\")\n",
        "    print(\"was True\")\n",
        "else:\n",
        "    print(\"The condition\")\n",
        "    print(\"was False\")"
      ],
      "metadata": {
        "id": "fNvFz9AT1DDF"
      },
      "execution_count": null,
      "outputs": []
    },
    {
      "cell_type": "markdown",
      "source": [
        "And you can have different linked if checks with elif that's executed if the previous check was False:"
      ],
      "metadata": {
        "id": "5V1J91wq1Xxk"
      }
    },
    {
      "cell_type": "code",
      "source": [
        "condition = True\n",
        "name = \"Roger\"\n",
        "\n",
        "if condition == True:\n",
        "    print(\"The condition\")\n",
        "    print(\"was True\")\n",
        "elif name == \"Roger\":\n",
        "    print(\"Hello Roger\")\n",
        "else:\n",
        "    print(\"The condition\")\n",
        "    print(\"was False\")"
      ],
      "metadata": {
        "id": "4xzxoY1G1aag"
      },
      "execution_count": null,
      "outputs": []
    },
    {
      "cell_type": "markdown",
      "source": [
        "## **Lists in Python**\n",
        "Lists are an essential Python data structure.\n",
        "\n",
        "The allow you to group together multiple values and reference them all with a common name.\n",
        "\n",
        "For example:"
      ],
      "metadata": {
        "id": "2uHzw9WR1mJs"
      }
    },
    {
      "cell_type": "code",
      "source": [
        "dogs = [\"Roger\", \"Syd\"]"
      ],
      "metadata": {
        "id": "hiUmsClF1o7H"
      },
      "execution_count": null,
      "outputs": []
    },
    {
      "cell_type": "markdown",
      "source": [
        "A list can hold values of different types:"
      ],
      "metadata": {
        "id": "OKZ2046L1szW"
      }
    },
    {
      "cell_type": "code",
      "source": [
        "items = [\"Roger\", 1, \"Syd\", True]"
      ],
      "metadata": {
        "id": "jMqE4s9A1xyp"
      },
      "execution_count": null,
      "outputs": []
    },
    {
      "cell_type": "markdown",
      "source": [
        "You can add items to the list by using a list append() method:"
      ],
      "metadata": {
        "id": "dqwucYP-17F1"
      }
    },
    {
      "cell_type": "code",
      "source": [
        "items.append(\"Test\")"
      ],
      "metadata": {
        "id": "ZeRI6D5j178a"
      },
      "execution_count": null,
      "outputs": []
    },
    {
      "cell_type": "markdown",
      "source": [
        "Remove an item using the remove() method:"
      ],
      "metadata": {
        "id": "0r_6JDJL2Dno"
      }
    },
    {
      "cell_type": "code",
      "source": [
        "items.remove(\"Test\")"
      ],
      "metadata": {
        "id": "qdPG4PP92FBF"
      },
      "execution_count": null,
      "outputs": []
    },
    {
      "cell_type": "markdown",
      "source": [
        "To add an item in the middle of a list, at a specific index, use the insert() method:"
      ],
      "metadata": {
        "id": "uBSH5_SD2Kv5"
      }
    },
    {
      "cell_type": "code",
      "source": [
        "items.insert(\"Test\", 1) # add \"Test\" at index 1"
      ],
      "metadata": {
        "id": "ZCo1oc7G2MgA"
      },
      "execution_count": null,
      "outputs": []
    },
    {
      "cell_type": "markdown",
      "source": [
        "Sort a list using the sort() method:"
      ],
      "metadata": {
        "id": "6ou1gb5T2S2l"
      }
    },
    {
      "cell_type": "code",
      "source": [
        "items.sort()"
      ],
      "metadata": {
        "id": "1G5zuyPX2ZZ3"
      },
      "execution_count": null,
      "outputs": []
    },
    {
      "cell_type": "markdown",
      "source": [
        "## **Tuples in Python**\n",
        "Tuples are another fundamental Python data structure.\n",
        "\n",
        "They allow you to create immutable groups of objects. This means that once a tuple is created, it can't be modified. You can't add or remove items.\n",
        "\n",
        "They are created in a way similar to lists, but using parentheses instead of square brackets:"
      ],
      "metadata": {
        "id": "H2fYNaBa2nuc"
      }
    },
    {
      "cell_type": "code",
      "source": [
        "names = (\"Roger\", \"Syd\")"
      ],
      "metadata": {
        "id": "bG_lcyXu2rQ5"
      },
      "execution_count": null,
      "outputs": []
    },
    {
      "cell_type": "markdown",
      "source": [
        "A tuple is ordered, like a list, so you can get its values by referencing an index value:"
      ],
      "metadata": {
        "id": "e155jBUy20w_"
      }
    },
    {
      "cell_type": "code",
      "source": [
        "names = (\"Roger\", \"Syd\")\n",
        "names.index('Roger') # 0\n",
        "names.index('Syd')   # 1\n"
      ],
      "metadata": {
        "id": "yAb8J_SN21_V"
      },
      "execution_count": null,
      "outputs": []
    },
    {
      "cell_type": "markdown",
      "source": [
        "You can count the items in a tuple with the len() function.\n",
        "\n",
        "You can check if an item is contained in a tuple with the 'in' operator.\n",
        "\n",
        "You can create a sorted version of a tuple using the sorted() global function."
      ],
      "metadata": {
        "id": "SpNXQ37W2-xm"
      }
    },
    {
      "cell_type": "code",
      "source": [
        "sorted(names)"
      ],
      "metadata": {
        "id": "B4j3obN_3Osg"
      },
      "execution_count": null,
      "outputs": []
    },
    {
      "cell_type": "markdown",
      "source": [
        "You can create a new tuple from existing tuples using the + operator:"
      ],
      "metadata": {
        "id": "AR993saq3Qu6"
      }
    },
    {
      "cell_type": "code",
      "source": [
        "names = (\"Roger\", \"Syd\")\n",
        "newTuple = names + (\"Vanille\", \"Tina\")"
      ],
      "metadata": {
        "id": "_hzQo7th3T1o"
      },
      "execution_count": null,
      "outputs": []
    },
    {
      "cell_type": "markdown",
      "source": [
        "## **Dictionaries in Python**\n",
        "Dictionaries are a very important Python data structure.\n",
        "\n",
        "While lists allow you to create collections of values, dictionaries allow you to create collections of key / value pairs.\n",
        "\n",
        "Here is a dictionary example with one key/value pair:"
      ],
      "metadata": {
        "id": "nV8vXf8nC5if"
      }
    },
    {
      "cell_type": "code",
      "source": [
        "dog = { 'name': 'Roger' }"
      ],
      "metadata": {
        "id": "4DHq4wh7C92E"
      },
      "execution_count": null,
      "outputs": []
    },
    {
      "cell_type": "markdown",
      "source": [
        "A dictionary can contain multiple key/value pairs:\n",
        "\n"
      ],
      "metadata": {
        "id": "fJ8hxVfBDFMz"
      }
    },
    {
      "cell_type": "code",
      "source": [
        "dog = { 'name': 'Roger', 'age': 8 }"
      ],
      "metadata": {
        "id": "IDGhX1NFDGAp"
      },
      "execution_count": null,
      "outputs": []
    },
    {
      "cell_type": "markdown",
      "source": [
        "You can access individual key values using this notation:"
      ],
      "metadata": {
        "id": "2WzFGi05DIvO"
      }
    },
    {
      "cell_type": "code",
      "source": [
        "dog['name'] # 'Roger'\n",
        "dog['age']  # 8"
      ],
      "metadata": {
        "id": "zmx_kzAODKtL"
      },
      "execution_count": null,
      "outputs": []
    },
    {
      "cell_type": "markdown",
      "source": [
        "## **Sets in Python**\n",
        "Sets are another important Python data structure.\n",
        "\n",
        "We can say they work like tuples, but they are not ordered, and they are mutable.\n",
        "\n",
        "Or we can say they work like dictionaries, but they don't have keys.\n",
        "\n",
        "They also have an immutable version, called frozenset.\n",
        "\n",
        "You can create a set using this syntax:"
      ],
      "metadata": {
        "id": "4OQFGUHBDf1J"
      }
    },
    {
      "cell_type": "code",
      "source": [
        "names = {\"Roger\", \"Syd\"}"
      ],
      "metadata": {
        "id": "IaCUHGt9Dmc2"
      },
      "execution_count": null,
      "outputs": []
    },
    {
      "cell_type": "markdown",
      "source": [
        "Sets work well when you think about them as mathematical sets.\n",
        "\n",
        "You can intersect two sets and union two sets"
      ],
      "metadata": {
        "id": "WzuJLZekDtZ4"
      }
    },
    {
      "cell_type": "code",
      "source": [
        "set1 = {\"Roger\", \"Syd\"}\n",
        "set2 = {\"Roger\"}\n",
        "\n",
        "intersect = set1 & set2 #{'Roger'}\n",
        "union = set1 | set2\n",
        "#{'Syd', 'Roger'}"
      ],
      "metadata": {
        "id": "w8Xq9_nTDxnW"
      },
      "execution_count": null,
      "outputs": []
    },
    {
      "cell_type": "markdown",
      "source": [
        "## **Functions in Python**\n",
        "A function lets us create a set of instructions that we can run when needed.\n",
        "\n",
        "Functions are essential in Python and in many other programming languages. They help us create meaningful programs, because they allow us to decompose a program into manageable parts, and they promote readability and code reuse.\n",
        "\n",
        "Here is an example function called hello that prints \"Hello!\":"
      ],
      "metadata": {
        "id": "R5df72q8EBVp"
      }
    },
    {
      "cell_type": "code",
      "source": [
        "def hello():\n",
        "    print('Hello!')"
      ],
      "metadata": {
        "id": "QAXHApJWEUVy"
      },
      "execution_count": null,
      "outputs": []
    },
    {
      "cell_type": "markdown",
      "source": [
        "This is the function definition. Thereis a name (hello) and a body, the set of instructions, which is the part that follows the colon. It's indented one level on the right.\n",
        "\n",
        "To run this function, we must call it. This is the syntax to call the function:"
      ],
      "metadata": {
        "id": "woPjBKceEVG6"
      }
    },
    {
      "cell_type": "code",
      "source": [
        "hello()"
      ],
      "metadata": {
        "id": "NuadaRW4EY5y"
      },
      "execution_count": null,
      "outputs": []
    },
    {
      "cell_type": "markdown",
      "source": [
        "A function can accept one or more parameters:"
      ],
      "metadata": {
        "id": "ch-8WAuEEl7X"
      }
    },
    {
      "cell_type": "code",
      "source": [
        "def hello(name):\n",
        "    print('Hello ' + name + '!')\n",
        "\n",
        "hello('Roger')"
      ],
      "metadata": {
        "id": "GOhj3qqLEnYB"
      },
      "execution_count": null,
      "outputs": []
    },
    {
      "cell_type": "markdown",
      "source": [
        "An argument can have a default value that's applied if the argument is not specified:"
      ],
      "metadata": {
        "id": "PqpQ4AlBE4xW"
      }
    },
    {
      "cell_type": "code",
      "source": [
        "def hello(name='my friend'):\n",
        "    print('Hello ' + name + '!')\n",
        "\n",
        "hello()\n",
        "#Hello my friend!"
      ],
      "metadata": {
        "id": "6A6ktQSME5gl"
      },
      "execution_count": null,
      "outputs": []
    },
    {
      "cell_type": "markdown",
      "source": [
        "Here's how we can accept multiple parameters:"
      ],
      "metadata": {
        "id": "Q-RpU6RiE_3J"
      }
    },
    {
      "cell_type": "code",
      "source": [
        "def hello(name, age):\n",
        "    print('Hello ' + name + ', you are ' + str(age) + ' years old!')\n",
        "\n",
        "hello('Roger', 8)"
      ],
      "metadata": {
        "id": "5xUGgT-uFB1k"
      },
      "execution_count": null,
      "outputs": []
    },
    {
      "cell_type": "markdown",
      "source": [
        "## **Objects in Python**\n",
        "Everything in Python is an object.\n",
        "\n",
        "Even values of basic primitive types (integer, string, float..) are objects. Lists are objects, as are tuples, dictionaries, everything.\n",
        "\n",
        "Objects have attributes and methods that can be accessed using the dot syntax.\n",
        "\n",
        "For example, try defining a new variable of type int:"
      ],
      "metadata": {
        "id": "3uLuy2BzLauC"
      }
    },
    {
      "cell_type": "code",
      "source": [
        "age = 8"
      ],
      "metadata": {
        "id": "oxjhexOxMBJY"
      },
      "execution_count": null,
      "outputs": []
    },
    {
      "cell_type": "markdown",
      "source": [
        "age now has access to the properties and methods defined for all int objects.\n",
        "\n",
        "This includes, for example, access to the real and imaginary part of that number:"
      ],
      "metadata": {
        "id": "_Idmjqx9MFfx"
      }
    },
    {
      "cell_type": "code",
      "source": [
        "print(age.real) # 8\n",
        "print(age.imag) # 0\n",
        "\n",
        "print(age.bit_length()) #4"
      ],
      "metadata": {
        "id": "rtnviut3MLTr"
      },
      "execution_count": null,
      "outputs": []
    },
    {
      "cell_type": "markdown",
      "source": [
        "The id() global function provided by Python lets you inspect the location in memory for a particular object."
      ],
      "metadata": {
        "id": "_BKGRhz2MfoS"
      }
    },
    {
      "cell_type": "code",
      "source": [
        "id(age) # 140170065725376"
      ],
      "metadata": {
        "id": "j5nGM7S_Mg55"
      },
      "execution_count": null,
      "outputs": []
    },
    {
      "cell_type": "markdown",
      "source": [
        "## **Loops in Python**\n",
        "Loops are one essential part of programming.\n",
        "\n",
        "In Python we have 2 kinds of loops: while loops and for loops.\n",
        "\n",
        "# **while loops in Python**\n",
        " while loops are defined using the while keyword, and they repeat their block until the condition is evaluated as False:"
      ],
      "metadata": {
        "id": "CzRLVa3vMvV9"
      }
    },
    {
      "cell_type": "code",
      "source": [
        "count = 0\n",
        "while count < 10:\n",
        "    print(\"The condition is True\")\n",
        "    count = count + 1\n",
        "\n",
        "print(\"After the loop\")\n"
      ],
      "metadata": {
        "id": "Vm4crS4HM8HT"
      },
      "execution_count": null,
      "outputs": []
    },
    {
      "cell_type": "markdown",
      "source": [
        "# **for loops in Python**\n",
        "Using for loops we can tell Python to execute a block for a pre-determined amount of times, up front, and without the need of a separate variable and conditional to check its value.\n",
        "\n",
        "For example we can iterate the items in a list:"
      ],
      "metadata": {
        "id": "ebEBfoKoNRxO"
      }
    },
    {
      "cell_type": "code",
      "source": [
        "items = [1, 2, 3, 4]\n",
        "for item in items:\n",
        "    print(item)"
      ],
      "metadata": {
        "id": "I-XI992HNhy6"
      },
      "execution_count": null,
      "outputs": []
    },
    {
      "cell_type": "markdown",
      "source": [
        "## **Break and continue in Python**\n",
        "Both while and for loops can be interrupted inside the block, using two special keywords: break and continue.\n",
        "\n",
        "continue stops the current iteration and tells Python to execute the next one.\n",
        "\n",
        "break stops the loop altogether, and goes on with the next instruction after the loop ends.\n",
        "\n",
        "The first example here prints 1, 3, 4. The second example prints 1:"
      ],
      "metadata": {
        "id": "XuOLymKCOD5Q"
      }
    },
    {
      "cell_type": "code",
      "source": [
        "items = [1, 2, 3, 4]\n",
        "for item in items:\n",
        "    if item == 2:\n",
        "        continue\n",
        "    print(item)"
      ],
      "metadata": {
        "id": "CVgrqJrFOGQp"
      },
      "execution_count": null,
      "outputs": []
    },
    {
      "cell_type": "code",
      "source": [
        "items = [1, 2, 3, 4]\n",
        "for item in items:\n",
        "    if item == 2:\n",
        "        break\n",
        "    print(item)"
      ],
      "metadata": {
        "id": "bTy4CVzJOJlA"
      },
      "execution_count": null,
      "outputs": []
    },
    {
      "cell_type": "markdown",
      "source": [
        "## **Classes in Python**\n",
        "In addition to using the Python-provided types, we can declare our own classes, and from classes we can instantiate objects.\n",
        "\n",
        "An object is an instance of a class. A class is the type of an object.\n",
        "\n",
        "We can define a class in this way"
      ],
      "metadata": {
        "id": "WWEtSpY1OMW4"
      }
    },
    {
      "cell_type": "code",
      "source": [
        "class <class_name>:\n",
        "    # my class"
      ],
      "metadata": {
        "id": "paXKh9JKOScG"
      },
      "execution_count": null,
      "outputs": []
    },
    {
      "cell_type": "markdown",
      "source": [
        "A class can define methods:"
      ],
      "metadata": {
        "id": "Xt-1WtGiObah"
      }
    },
    {
      "cell_type": "code",
      "source": [
        " class Dog:\n",
        "    # the Dog class\n",
        "    def bark(self):\n",
        "        print('WOF!')"
      ],
      "metadata": {
        "id": "6E4WCJ8LOcb4"
      },
      "execution_count": null,
      "outputs": []
    },
    {
      "cell_type": "markdown",
      "source": [
        "***self*** as the argument of the method points to the current object instance, and must be specified when defining a method.\n",
        "\n",
        "We create an instance of a class, an object, using this syntax:"
      ],
      "metadata": {
        "id": "2lDRthqLOl-O"
      }
    },
    {
      "cell_type": "code",
      "source": [
        "roger = Dog()"
      ],
      "metadata": {
        "id": "DcCjo5D8OqeY"
      },
      "execution_count": null,
      "outputs": []
    },
    {
      "cell_type": "markdown",
      "source": [
        "Now roger is a new object of type Dog.\n",
        "\n",
        "If you run"
      ],
      "metadata": {
        "id": "G6y2bHn5Ozhd"
      }
    },
    {
      "cell_type": "code",
      "source": [
        "print(type(roger))"
      ],
      "metadata": {
        "id": "AAzNBCvpO0F2"
      },
      "execution_count": null,
      "outputs": []
    },
    {
      "cell_type": "markdown",
      "source": [
        "You will get <class '__main__.Dog'>\n",
        "\n",
        "A special type of method, __init__() is called constructor, and we can use it to initialize one or more properties when we create a new object from that class:"
      ],
      "metadata": {
        "id": "Z7ydDr9rO3sl"
      }
    },
    {
      "cell_type": "code",
      "source": [
        "class Dog:\n",
        "    # the Dog class\n",
        "    def __init__(self, name, age):\n",
        "        self.name = name\n",
        "        self.age = age\n",
        "\n",
        "    def bark(self):\n",
        "        print('WOF!')"
      ],
      "metadata": {
        "id": "bPpBSD5bPCxl"
      },
      "execution_count": null,
      "outputs": []
    },
    {
      "cell_type": "markdown",
      "source": [
        "We use it in this way"
      ],
      "metadata": {
        "id": "xCMGMXyZPHP6"
      }
    },
    {
      "cell_type": "code",
      "source": [
        "roger = Dog('Roger', 8)\n",
        "print(roger.name) # 'Roger'\n",
        "print(roger.age)  # 8\n",
        "\n",
        "roger.bark() # 'WOF!'"
      ],
      "metadata": {
        "id": "FUCxcAz0PQCV"
      },
      "execution_count": null,
      "outputs": []
    },
    {
      "cell_type": "markdown",
      "source": [
        "One important feature of classes is inheritance.\n",
        "\n",
        "We can create an Animal class with a method walk():"
      ],
      "metadata": {
        "id": "hIL25VcBPa5D"
      }
    },
    {
      "cell_type": "code",
      "source": [
        "class Animal:\n",
        "    def walk(self):\n",
        "        print('Walking..')"
      ],
      "metadata": {
        "id": "I-ahpQvHPcV3"
      },
      "execution_count": null,
      "outputs": []
    },
    {
      "cell_type": "markdown",
      "source": [
        "and the Dog class can inherit from Animal:"
      ],
      "metadata": {
        "id": "7p0o75mmPfEb"
      }
    },
    {
      "cell_type": "code",
      "source": [
        "class Dog(Animal):\n",
        "    def bark(self):\n",
        "        print('WOF!')"
      ],
      "metadata": {
        "id": "SGtkT877Pin3"
      },
      "execution_count": null,
      "outputs": []
    },
    {
      "cell_type": "markdown",
      "source": [
        "Now creating a new object of class Dog will have the walk() method as that's inherited from Animal:"
      ],
      "metadata": {
        "id": "EGo9YySuPtIv"
      }
    },
    {
      "cell_type": "code",
      "source": [
        "roger = Dog()\n",
        "roger.walk() # 'Walking..'\n",
        "roger.bark() # 'WOF!'"
      ],
      "metadata": {
        "id": "sZsAAPzRPwGy"
      },
      "execution_count": null,
      "outputs": []
    },
    {
      "cell_type": "markdown",
      "source": [
        "## **Lab Task:**\n",
        "\n",
        "1. You are required to implement all the examples mentioned in the lab manual.\n",
        "2. Python Program that generate a set of prime numbers and another set of even numbers. Demonstrate the result of union, intersection, difference and symmetirc difference operations implement using classes."
      ],
      "metadata": {
        "id": "xaKU9zZrFMm8"
      }
    },
    {
      "cell_type": "markdown",
      "source": [
        "## **Lab Assignment:**\n",
        "Q1) Write a program to achieve the following output?\n",
        "\n",
        "![1.PNG](data:image/png;base64,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)"
      ],
      "metadata": {
        "id": "goXY6jzSGxy3"
      }
    },
    {
      "cell_type": "markdown",
      "source": [
        "Q2) Create the following tree and print inorder, postorder and preorder traversal?\n",
        "\n",
        "![2.PNG](data:image/png;base64,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)\n",
        "\n"
      ],
      "metadata": {
        "id": "_Pk-VCVppJIw"
      }
    },
    {
      "cell_type": "markdown",
      "source": [
        "Note: Use of class and objects is compulsory for every assignment question."
      ],
      "metadata": {
        "id": "wzWF5D-Plv2o"
      }
    },
    {
      "cell_type": "markdown",
      "source": [
        "## **Submission Guidelines**\n",
        "\n",
        "1. Submit a pdf having the screenshots of your source code and output properly labeled with your roll number.\n",
        "\n",
        "2. Upload it on lms."
      ],
      "metadata": {
        "id": "7sMVSWrVI93R"
      }
    }
  ],
  "metadata": {
    "colab": {
      "provenance": []
    },
    "kernelspec": {
      "display_name": "Python 3",
      "name": "python3"
    },
    "language_info": {
      "name": "python"
    }
  },
  "nbformat": 4,
  "nbformat_minor": 0
}