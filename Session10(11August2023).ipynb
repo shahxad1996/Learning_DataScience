{
 "cells": [
  {
   "cell_type": "markdown",
   "metadata": {},
   "source": [
    "# More on Pandas Series Object.... "
   ]
  },
  {
   "cell_type": "code",
   "execution_count": 1,
   "metadata": {},
   "outputs": [],
   "source": [
    "import pandas as pd\n",
    "import numpy as np\n",
    "import matplotlib.pyplot as plt\n",
    "import seaborn as sns "
   ]
  },
  {
   "cell_type": "code",
   "execution_count": 2,
   "metadata": {},
   "outputs": [
    {
     "data": {
      "text/plain": [
       "apples       12\n",
       "oranges      24\n",
       "bananas      36\n",
       "samosas      12\n",
       "rolls         6\n",
       "chickens     12\n",
       "coldrinks    24\n",
       "dtype: int64"
      ]
     },
     "execution_count": 2,
     "metadata": {},
     "output_type": "execute_result"
    }
   ],
   "source": [
    "s2 = pd.Series([12,24,36,12,6,12,24], index=['apples','oranges','bananas', 'samosas','rolls', 'chickens', 'coldrinks']) \n",
    "s2"
   ]
  },
  {
   "cell_type": "code",
   "execution_count": 3,
   "metadata": {
    "scrolled": true
   },
   "outputs": [
    {
     "data": {
      "image/png": "[encoded data removed]",
      "text/plain": [
       "<Figure size 432x288 with 1 Axes>"
      ]
     },
     "metadata": {
      "needs_background": "light"
     },
     "output_type": "display_data"
    }
   ],
   "source": [
    "plt.bar(s2.index, s2.values)\n",
    "plt.xlabel('Items')\n",
    "plt.ylabel('Quantities')\n",
    "plt.title('Test_Graph')\n",
    "plt.legend(['Data'],loc=2)\n",
    "plt.grid(True)\n",
    "plt.savefig('test')\n",
    "plt.show()"
   ]
  },
  {
   "cell_type": "code",
   "execution_count": 4,
   "metadata": {},
   "outputs": [
    {
     "data": {
      "image/png": "[encoded data removed]",
      "text/plain": [
       "<Figure size 432x288 with 1 Axes>"
      ]
     },
     "metadata": {
      "needs_background": "light"
     },
     "output_type": "display_data"
    }
   ],
   "source": [
    "# Implementation of matplotlib.pyplot.xlabels()\n",
    "# function\n",
    "\n",
    "import numpy as np\n",
    "import matplotlib.pyplot as plt\n",
    "\n",
    "t = np.arange(-180.0, 180.0, 0.1)\n",
    "s = np.radians(t)/2.\n",
    "\n",
    "plt.plot(t, s, '-', lw = 2)\n",
    "\n",
    "plt.xlabel('Longitude')\n",
    "plt.ylabel('Latitude')\n",
    "plt.title('xlabels() function')\n",
    "plt.legend([\"A,B\"],loc=3)\n",
    "plt.grid(True)\n",
    "plt.savefig('abc')\n",
    "plt.show()\n"
   ]
  },
  {
   "cell_type": "markdown",
   "metadata": {},
   "source": [
    "# Pandas Data Frame\n",
    "  - more than one dimensional \n",
    "  - type dataframe \n",
    "  - can be a single col or multiple columns"
   ]
  },
  {
   "cell_type": "code",
   "execution_count": 5,
   "metadata": {},
   "outputs": [],
   "source": [
    "# Creating a data frame\n",
    "result = {'name':          ['Nasir','Asad', 'Fahad','Zeeshan', 'Shan', 'Shoaib', 'Ali', 'Hassan', 'Yasir', 'Junaid'],\n",
    "          'roll':          [11,22,33,44,55,66,77,88,99,111],\n",
    "          'python':        [78,67,89,90,91,72,76,89,67,85],\n",
    "          'excel':         [89,87,67,74,78,90,76,78,90,54],\n",
    "           'power_bi':     [45,67,89,87,67,90,65,67,56,90],\n",
    "          'pandas':        [81,85,89,87,41,45,96,56,93,78],\n",
    "        'machine_learning':[96,95,84,85,82,81,74,75,96,90],\n",
    "         'statistics':     [67,48,45,98,75,71,70,60,90,93]}\n"
   ]
  },
  {
   "cell_type": "code",
   "execution_count": 6,
   "metadata": {},
   "outputs": [
    {
     "data": {
      "text/html": [
       "<div>\n",
       "<style scoped>\n",
       "    .dataframe tbody tr th:only-of-type {\n",
       "        vertical-align: middle;\n",
       "    }\n",
       "\n",
       "    .dataframe tbody tr th {\n",
       "        vertical-align: top;\n",
       "    }\n",
       "\n",
       "    .dataframe thead th {\n",
       "        text-align: right;\n",
       "    }\n",
       "</style>\n",
       "<table border=\"1\" class=\"dataframe\">\n",
       "  <thead>\n",
       "    <tr style=\"text-align: right;\">\n",
       "      <th></th>\n",
       "      <th>name</th>\n",
       "      <th>roll</th>\n",
       "      <th>python</th>\n",
       "      <th>excel</th>\n",
       "      <th>power_bi</th>\n",
       "      <th>pandas</th>\n",
       "      <th>machine_learning</th>\n",
       "      <th>statistics</th>\n",
       "    </tr>\n",
       "  </thead>\n",
       "  <tbody>\n",
       "    <tr>\n",
       "      <td>0</td>\n",
       "      <td>Nasir</td>\n",
       "      <td>11</td>\n",
       "      <td>78</td>\n",
       "      <td>89</td>\n",
       "      <td>45</td>\n",
       "      <td>81</td>\n",
       "      <td>96</td>\n",
       "      <td>67</td>\n",
       "    </tr>\n",
       "    <tr>\n",
       "      <td>1</td>\n",
       "      <td>Asad</td>\n",
       "      <td>22</td>\n",
       "      <td>67</td>\n",
       "      <td>87</td>\n",
       "      <td>67</td>\n",
       "      <td>85</td>\n",
       "      <td>95</td>\n",
       "      <td>48</td>\n",
       "    </tr>\n",
       "    <tr>\n",
       "      <td>2</td>\n",
       "      <td>Fahad</td>\n",
       "      <td>33</td>\n",
       "      <td>89</td>\n",
       "      <td>67</td>\n",
       "      <td>89</td>\n",
       "      <td>89</td>\n",
       "      <td>84</td>\n",
       "      <td>45</td>\n",
       "    </tr>\n",
       "    <tr>\n",
       "      <td>3</td>\n",
       "      <td>Zeeshan</td>\n",
       "      <td>44</td>\n",
       "      <td>90</td>\n",
       "      <td>74</td>\n",
       "      <td>87</td>\n",
       "      <td>87</td>\n",
       "      <td>85</td>\n",
       "      <td>98</td>\n",
       "    </tr>\n",
       "    <tr>\n",
       "      <td>4</td>\n",
       "      <td>Shan</td>\n",
       "      <td>55</td>\n",
       "      <td>91</td>\n",
       "      <td>78</td>\n",
       "      <td>67</td>\n",
       "      <td>41</td>\n",
       "      <td>82</td>\n",
       "      <td>75</td>\n",
       "    </tr>\n",
       "    <tr>\n",
       "      <td>5</td>\n",
       "      <td>Shoaib</td>\n",
       "      <td>66</td>\n",
       "      <td>72</td>\n",
       "      <td>90</td>\n",
       "      <td>90</td>\n",
       "      <td>45</td>\n",
       "      <td>81</td>\n",
       "      <td>71</td>\n",
       "    </tr>\n",
       "    <tr>\n",
       "      <td>6</td>\n",
       "      <td>Ali</td>\n",
       "      <td>77</td>\n",
       "      <td>76</td>\n",
       "      <td>76</td>\n",
       "      <td>65</td>\n",
       "      <td>96</td>\n",
       "      <td>74</td>\n",
       "      <td>70</td>\n",
       "    </tr>\n",
       "    <tr>\n",
       "      <td>7</td>\n",
       "      <td>Hassan</td>\n",
       "      <td>88</td>\n",
       "      <td>89</td>\n",
       "      <td>78</td>\n",
       "      <td>67</td>\n",
       "      <td>56</td>\n",
       "      <td>75</td>\n",
       "      <td>60</td>\n",
       "    </tr>\n",
       "    <tr>\n",
       "      <td>8</td>\n",
       "      <td>Yasir</td>\n",
       "      <td>99</td>\n",
       "      <td>67</td>\n",
       "      <td>90</td>\n",
       "      <td>56</td>\n",
       "      <td>93</td>\n",
       "      <td>96</td>\n",
       "      <td>90</td>\n",
       "    </tr>\n",
       "    <tr>\n",
       "      <td>9</td>\n",
       "      <td>Junaid</td>\n",
       "      <td>111</td>\n",
       "      <td>85</td>\n",
       "      <td>54</td>\n",
       "      <td>90</td>\n",
       "      <td>78</td>\n",
       "      <td>90</td>\n",
       "      <td>93</td>\n",
       "    </tr>\n",
       "  </tbody>\n",
       "</table>\n",
       "</div>"
      ],
      "text/plain": [
       "      name  roll  python  excel  power_bi  pandas  machine_learning  \\\n",
       "0    Nasir    11      78     89        45      81                96   \n",
       "1     Asad    22      67     87        67      85                95   \n",
       "2    Fahad    33      89     67        89      89                84   \n",
       "3  Zeeshan    44      90     74        87      87                85   \n",
       "4     Shan    55      91     78        67      41                82   \n",
       "5   Shoaib    66      72     90        90      45                81   \n",
       "6      Ali    77      76     76        65      96                74   \n",
       "7   Hassan    88      89     78        67      56                75   \n",
       "8    Yasir    99      67     90        56      93                96   \n",
       "9   Junaid   111      85     54        90      78                90   \n",
       "\n",
       "   statistics  \n",
       "0          67  \n",
       "1          48  \n",
       "2          45  \n",
       "3          98  \n",
       "4          75  \n",
       "5          71  \n",
       "6          70  \n",
       "7          60  \n",
       "8          90  \n",
       "9          93  "
      ]
     },
     "execution_count": 6,
     "metadata": {},
     "output_type": "execute_result"
    }
   ],
   "source": [
    "df = pd.DataFrame(result)\n",
    "df"
   ]
  },
  {
   "cell_type": "code",
   "execution_count": 7,
   "metadata": {},
   "outputs": [
    {
     "data": {
      "text/plain": [
       "pandas.core.frame.DataFrame"
      ]
     },
     "execution_count": 7,
     "metadata": {},
     "output_type": "execute_result"
    }
   ],
   "source": [
    "type(df)"
   ]
  },
  {
   "cell_type": "code",
   "execution_count": 8,
   "metadata": {},
   "outputs": [
    {
     "data": {
      "text/plain": [
       "(10, 8)"
      ]
     },
     "execution_count": 8,
     "metadata": {},
     "output_type": "execute_result"
    }
   ],
   "source": [
    "df.shape"
   ]
  },
  {
   "cell_type": "code",
   "execution_count": 9,
   "metadata": {},
   "outputs": [
    {
     "ename": "SyntaxError",
     "evalue": "invalid syntax (<ipython-input-9-7673616d6c8d>, line 1)",
     "output_type": "error",
     "traceback": [
      "\u001b[1;36m  File \u001b[1;32m\"<ipython-input-9-7673616d6c8d>\"\u001b[1;36m, line \u001b[1;32m1\u001b[0m\n\u001b[1;33m    df.columns =\u001b[0m\n\u001b[1;37m                ^\u001b[0m\n\u001b[1;31mSyntaxError\u001b[0m\u001b[1;31m:\u001b[0m invalid syntax\n"
     ]
    }
   ],
   "source": [
    "df.columns ="
   ]
  },
  {
   "cell_type": "code",
   "execution_count": null,
   "metadata": {},
   "outputs": [],
   "source": [
    "df.index"
   ]
  },
  {
   "cell_type": "code",
   "execution_count": null,
   "metadata": {},
   "outputs": [],
   "source": [
    "df.columns = ['Name','Roll','Python','Excel','Power_bi','Pandas','Machine_learning','Statistics']\n",
    "df.columns"
   ]
  },
  {
   "cell_type": "code",
   "execution_count": null,
   "metadata": {},
   "outputs": [],
   "source": [
    "df"
   ]
  },
  {
   "cell_type": "code",
   "execution_count": null,
   "metadata": {},
   "outputs": [],
   "source": [
    "df.rename(columns={'Roll':'Id', 'Statistics':\"Stats\"},inplace=True)"
   ]
  },
  {
   "cell_type": "code",
   "execution_count": null,
   "metadata": {},
   "outputs": [],
   "source": [
    "df"
   ]
  },
  {
   "cell_type": "markdown",
   "metadata": {},
   "source": [
    "# Indexing \n",
    "    - Columns\n",
    "         - single column\n",
    "         - more than one column\n",
    "         - fancy indexing\n",
    "         - slicing\n",
    "    - Row\n",
    "        - single row\n",
    "        - more than one row\n",
    "        - facny indexing \n",
    "        - slicing\n",
    "    - Two dimensional Indexing and Slicing \n",
    "         - Row and Colums\n"
   ]
  },
  {
   "cell_type": "code",
   "execution_count": null,
   "metadata": {},
   "outputs": [],
   "source": [
    "# Accessing a column\n",
    "df['Excel']"
   ]
  },
  {
   "cell_type": "code",
   "execution_count": null,
   "metadata": {},
   "outputs": [],
   "source": [
    "# Fancy index\n",
    "df[  ['Excel', 'Stats']  ]"
   ]
  },
  {
   "cell_type": "code",
   "execution_count": null,
   "metadata": {},
   "outputs": [],
   "source": [
    "# slicing \n",
    "df['Python':'Pandas']"
   ]
  },
  {
   "cell_type": "code",
   "execution_count": null,
   "metadata": {},
   "outputs": [],
   "source": [
    "df.loc[ 3:8, 'Python':'Pandas']"
   ]
  },
  {
   "cell_type": "code",
   "execution_count": null,
   "metadata": {},
   "outputs": [],
   "source": [
    "df.iloc[ 3:8, 'Python':'Pandas']"
   ]
  },
  {
   "cell_type": "code",
   "execution_count": null,
   "metadata": {},
   "outputs": [],
   "source": [
    "df.iloc[ 3:8,2:5 ]"
   ]
  },
  {
   "cell_type": "code",
   "execution_count": null,
   "metadata": {},
   "outputs": [],
   "source": [
    "# fancy indexing\n",
    "df.iloc[[2,7,9,1],[2,3]]"
   ]
  },
  {
   "cell_type": "markdown",
   "metadata": {},
   "source": [
    "# Deleting a column ,Updating a column, Adding a new column\n"
   ]
  },
  {
   "cell_type": "code",
   "execution_count": null,
   "metadata": {},
   "outputs": [],
   "source": [
    "df"
   ]
  },
  {
   "cell_type": "code",
   "execution_count": null,
   "metadata": {},
   "outputs": [],
   "source": [
    "df['Extra'] = [1,2,3,4,5,6,7,8,9,10]"
   ]
  },
  {
   "cell_type": "code",
   "execution_count": null,
   "metadata": {},
   "outputs": [],
   "source": [
    "df"
   ]
  },
  {
   "cell_type": "code",
   "execution_count": null,
   "metadata": {},
   "outputs": [],
   "source": [
    "df['Extra2'] = range(20,30)"
   ]
  },
  {
   "cell_type": "code",
   "execution_count": null,
   "metadata": {},
   "outputs": [],
   "source": [
    "df"
   ]
  },
  {
   "cell_type": "code",
   "execution_count": null,
   "metadata": {},
   "outputs": [],
   "source": [
    "df['Extra3'] = np.arange(40,50)\n",
    "df"
   ]
  },
  {
   "cell_type": "code",
   "execution_count": null,
   "metadata": {},
   "outputs": [],
   "source": [
    "df['Extra'] = [a for a in range(50) if a%5==0]"
   ]
  },
  {
   "cell_type": "code",
   "execution_count": null,
   "metadata": {},
   "outputs": [],
   "source": [
    "df"
   ]
  },
  {
   "cell_type": "code",
   "execution_count": null,
   "metadata": {},
   "outputs": [],
   "source": [
    "df['Total'] = 600\n",
    "df"
   ]
  },
  {
   "cell_type": "code",
   "execution_count": null,
   "metadata": {},
   "outputs": [],
   "source": [
    "# Deleting a column or columns \n",
    "# using del \n",
    "\n",
    "del df['Extra2']\n",
    "\n",
    "# permanent deletes a column\n",
    "df"
   ]
  },
  {
   "cell_type": "code",
   "execution_count": null,
   "metadata": {},
   "outputs": [],
   "source": [
    "df.drop('Extra',axis=1, inplace=True)"
   ]
  },
  {
   "cell_type": "code",
   "execution_count": null,
   "metadata": {},
   "outputs": [],
   "source": [
    "df"
   ]
  },
  {
   "cell_type": "code",
   "execution_count": null,
   "metadata": {},
   "outputs": [],
   "source": [
    "df['Obtained'] = df.Python+df.Excel+df.Power_bi+df.Pandas+df.Machine_learning+df.Stats\n",
    "del df['Extra3']\n",
    "df"
   ]
  },
  {
   "cell_type": "code",
   "execution_count": null,
   "metadata": {},
   "outputs": [],
   "source": [
    "df['Percentage'] = round((df.Obtained/df.Total*100),1)\n",
    "df"
   ]
  },
  {
   "cell_type": "code",
   "execution_count": null,
   "metadata": {},
   "outputs": [],
   "source": [
    "df['Grade'] =['A*' if per>=90 else \"A\" if per>=80 else 'B' if per>=70 else 'C' if per>=60 else 'D' if per >=50 else \"F\" for per in df.Percentage ]"
   ]
  },
  {
   "cell_type": "code",
   "execution_count": null,
   "metadata": {},
   "outputs": [],
   "source": [
    "df"
   ]
  },
  {
   "cell_type": "code",
   "execution_count": null,
   "metadata": {},
   "outputs": [],
   "source": [
    "alst = [1,2,3,4]\n",
    "blst = ['A','B','C','D']"
   ]
  },
  {
   "cell_type": "code",
   "execution_count": null,
   "metadata": {},
   "outputs": [],
   "source": [
    "list(zip(alst,blst))"
   ]
  },
  {
   "cell_type": "code",
   "execution_count": null,
   "metadata": {},
   "outputs": [],
   "source": [
    "df.columns"
   ]
  },
  {
   "cell_type": "code",
   "execution_count": null,
   "metadata": {},
   "outputs": [],
   "source": [
    "all_marks = list(zip(df.Python,  df.Excel,  df.Power_bi,  df.Pandas,  df.Machine_learning, df.Stats))"
   ]
  },
  {
   "cell_type": "code",
   "execution_count": null,
   "metadata": {},
   "outputs": [],
   "source": [
    " df['Status']=[\"Fail\" if python<50 else  \n",
    "               \"Fail\" if excel<50 else \n",
    "               \"Fail\" if pbi<50 else \n",
    "               'Fail' if pandas<50 else \n",
    "               'Fail' if ml<50 else \n",
    "               'Fail'if stats<50  else \n",
    "                \"Pass\" \n",
    "               for python,excel,pbi,pandas,ml,stats in all_marks]"
   ]
  },
  {
   "cell_type": "code",
   "execution_count": null,
   "metadata": {},
   "outputs": [],
   "source": [
    "for i, marks in enumerate(all_marks):\n",
    "    print(i,marks)"
   ]
  },
  {
   "cell_type": "code",
   "execution_count": null,
   "metadata": {},
   "outputs": [],
   "source": [
    "for i, marks in enumerate(all_marks):\n",
    "    a,b,c,d,e,f =  marks\n",
    "    print(i, f\"a> {a}  b> {b} c>  {c} d> {d} e> {e} f> {f}\")"
   ]
  },
  {
   "cell_type": "code",
   "execution_count": null,
   "metadata": {},
   "outputs": [],
   "source": [
    "df"
   ]
  },
  {
   "cell_type": "code",
   "execution_count": null,
   "metadata": {},
   "outputs": [],
   "source": [
    "for key, value in {'a':5, \"b\":6}.items():\n",
    "    print(key, value)"
   ]
  },
  {
   "cell_type": "code",
   "execution_count": 10,
   "metadata": {},
   "outputs": [
    {
     "data": {
      "text/html": [
       "<div>\n",
       "<style scoped>\n",
       "    .dataframe tbody tr th:only-of-type {\n",
       "        vertical-align: middle;\n",
       "    }\n",
       "\n",
       "    .dataframe tbody tr th {\n",
       "        vertical-align: top;\n",
       "    }\n",
       "\n",
       "    .dataframe thead th {\n",
       "        text-align: right;\n",
       "    }\n",
       "</style>\n",
       "<table border=\"1\" class=\"dataframe\">\n",
       "  <thead>\n",
       "    <tr style=\"text-align: right;\">\n",
       "      <th></th>\n",
       "      <th>name</th>\n",
       "      <th>roll</th>\n",
       "      <th>python</th>\n",
       "      <th>excel</th>\n",
       "      <th>power_bi</th>\n",
       "      <th>pandas</th>\n",
       "      <th>machine_learning</th>\n",
       "      <th>statistics</th>\n",
       "    </tr>\n",
       "  </thead>\n",
       "  <tbody>\n",
       "    <tr>\n",
       "      <td>0</td>\n",
       "      <td>Nasir</td>\n",
       "      <td>11</td>\n",
       "      <td>78</td>\n",
       "      <td>89</td>\n",
       "      <td>45</td>\n",
       "      <td>81</td>\n",
       "      <td>96</td>\n",
       "      <td>67</td>\n",
       "    </tr>\n",
       "    <tr>\n",
       "      <td>1</td>\n",
       "      <td>Asad</td>\n",
       "      <td>22</td>\n",
       "      <td>67</td>\n",
       "      <td>87</td>\n",
       "      <td>67</td>\n",
       "      <td>85</td>\n",
       "      <td>95</td>\n",
       "      <td>48</td>\n",
       "    </tr>\n",
       "    <tr>\n",
       "      <td>2</td>\n",
       "      <td>Fahad</td>\n",
       "      <td>33</td>\n",
       "      <td>89</td>\n",
       "      <td>67</td>\n",
       "      <td>89</td>\n",
       "      <td>89</td>\n",
       "      <td>84</td>\n",
       "      <td>45</td>\n",
       "    </tr>\n",
       "    <tr>\n",
       "      <td>3</td>\n",
       "      <td>Zeeshan</td>\n",
       "      <td>44</td>\n",
       "      <td>90</td>\n",
       "      <td>74</td>\n",
       "      <td>87</td>\n",
       "      <td>87</td>\n",
       "      <td>85</td>\n",
       "      <td>98</td>\n",
       "    </tr>\n",
       "    <tr>\n",
       "      <td>4</td>\n",
       "      <td>Shan</td>\n",
       "      <td>55</td>\n",
       "      <td>91</td>\n",
       "      <td>78</td>\n",
       "      <td>67</td>\n",
       "      <td>41</td>\n",
       "      <td>82</td>\n",
       "      <td>75</td>\n",
       "    </tr>\n",
       "    <tr>\n",
       "      <td>5</td>\n",
       "      <td>Shoaib</td>\n",
       "      <td>66</td>\n",
       "      <td>72</td>\n",
       "      <td>90</td>\n",
       "      <td>90</td>\n",
       "      <td>45</td>\n",
       "      <td>81</td>\n",
       "      <td>71</td>\n",
       "    </tr>\n",
       "    <tr>\n",
       "      <td>6</td>\n",
       "      <td>Ali</td>\n",
       "      <td>77</td>\n",
       "      <td>76</td>\n",
       "      <td>76</td>\n",
       "      <td>65</td>\n",
       "      <td>96</td>\n",
       "      <td>74</td>\n",
       "      <td>70</td>\n",
       "    </tr>\n",
       "    <tr>\n",
       "      <td>7</td>\n",
       "      <td>Hassan</td>\n",
       "      <td>88</td>\n",
       "      <td>89</td>\n",
       "      <td>78</td>\n",
       "      <td>67</td>\n",
       "      <td>56</td>\n",
       "      <td>75</td>\n",
       "      <td>60</td>\n",
       "    </tr>\n",
       "    <tr>\n",
       "      <td>8</td>\n",
       "      <td>Yasir</td>\n",
       "      <td>99</td>\n",
       "      <td>67</td>\n",
       "      <td>90</td>\n",
       "      <td>56</td>\n",
       "      <td>93</td>\n",
       "      <td>96</td>\n",
       "      <td>90</td>\n",
       "    </tr>\n",
       "    <tr>\n",
       "      <td>9</td>\n",
       "      <td>Junaid</td>\n",
       "      <td>111</td>\n",
       "      <td>85</td>\n",
       "      <td>54</td>\n",
       "      <td>90</td>\n",
       "      <td>78</td>\n",
       "      <td>90</td>\n",
       "      <td>93</td>\n",
       "    </tr>\n",
       "  </tbody>\n",
       "</table>\n",
       "</div>"
      ],
      "text/plain": [
       "      name  roll  python  excel  power_bi  pandas  machine_learning  \\\n",
       "0    Nasir    11      78     89        45      81                96   \n",
       "1     Asad    22      67     87        67      85                95   \n",
       "2    Fahad    33      89     67        89      89                84   \n",
       "3  Zeeshan    44      90     74        87      87                85   \n",
       "4     Shan    55      91     78        67      41                82   \n",
       "5   Shoaib    66      72     90        90      45                81   \n",
       "6      Ali    77      76     76        65      96                74   \n",
       "7   Hassan    88      89     78        67      56                75   \n",
       "8    Yasir    99      67     90        56      93                96   \n",
       "9   Junaid   111      85     54        90      78                90   \n",
       "\n",
       "   statistics  \n",
       "0          67  \n",
       "1          48  \n",
       "2          45  \n",
       "3          98  \n",
       "4          75  \n",
       "5          71  \n",
       "6          70  \n",
       "7          60  \n",
       "8          90  \n",
       "9          93  "
      ]
     },
     "execution_count": 10,
     "metadata": {},
     "output_type": "execute_result"
    }
   ],
   "source": [
    "df"
   ]
  },
  {
   "cell_type": "code",
   "execution_count": 14,
   "metadata": {},
   "outputs": [
    {
     "data": {
      "text/plain": [
       "name                10\n",
       "roll                10\n",
       "python              10\n",
       "excel               10\n",
       "power_bi            10\n",
       "pandas              10\n",
       "machine_learning    10\n",
       "statistics          10\n",
       "dtype: int64"
      ]
     },
     "execution_count": 14,
     "metadata": {},
     "output_type": "execute_result"
    }
   ],
   "source": [
    "df.count()"
   ]
  },
  {
   "cell_type": "code",
   "execution_count": 15,
   "metadata": {},
   "outputs": [
    {
     "name": "stderr",
     "output_type": "stream",
     "text": [
      "C:\\ProgramData\\Anaconda3\\lib\\site-packages\\ipykernel_launcher.py:1: FutureWarning: Method .as_matrix will be removed in a future version. Use .values instead.\n",
      "  \"\"\"Entry point for launching an IPython kernel.\n"
     ]
    },
    {
     "data": {
      "text/plain": [
       "array([['Nasir', 11, 78, 89, 45, 81, 96, 67],\n",
       "       ['Asad', 22, 67, 87, 67, 85, 95, 48],\n",
       "       ['Fahad', 33, 89, 67, 89, 89, 84, 45],\n",
       "       ['Zeeshan', 44, 90, 74, 87, 87, 85, 98],\n",
       "       ['Shan', 55, 91, 78, 67, 41, 82, 75],\n",
       "       ['Shoaib', 66, 72, 90, 90, 45, 81, 71],\n",
       "       ['Ali', 77, 76, 76, 65, 96, 74, 70],\n",
       "       ['Hassan', 88, 89, 78, 67, 56, 75, 60],\n",
       "       ['Yasir', 99, 67, 90, 56, 93, 96, 90],\n",
       "       ['Junaid', 111, 85, 54, 90, 78, 90, 93]], dtype=object)"
      ]
     },
     "execution_count": 15,
     "metadata": {},
     "output_type": "execute_result"
    }
   ],
   "source": [
    "df.as_matrix()"
   ]
  },
  {
   "cell_type": "code",
   "execution_count": 16,
   "metadata": {},
   "outputs": [
    {
     "data": {
      "text/html": [
       "<div>\n",
       "<style scoped>\n",
       "    .dataframe tbody tr th:only-of-type {\n",
       "        vertical-align: middle;\n",
       "    }\n",
       "\n",
       "    .dataframe tbody tr th {\n",
       "        vertical-align: top;\n",
       "    }\n",
       "\n",
       "    .dataframe thead th {\n",
       "        text-align: right;\n",
       "    }\n",
       "</style>\n",
       "<table border=\"1\" class=\"dataframe\">\n",
       "  <thead>\n",
       "    <tr style=\"text-align: right;\">\n",
       "      <th></th>\n",
       "      <th>name</th>\n",
       "      <th>roll</th>\n",
       "      <th>python</th>\n",
       "      <th>excel</th>\n",
       "      <th>power_bi</th>\n",
       "      <th>pandas</th>\n",
       "      <th>machine_learning</th>\n",
       "      <th>statistics</th>\n",
       "    </tr>\n",
       "  </thead>\n",
       "  <tbody>\n",
       "    <tr>\n",
       "      <td>0</td>\n",
       "      <td>Nasir</td>\n",
       "      <td>11</td>\n",
       "      <td>78</td>\n",
       "      <td>89</td>\n",
       "      <td>45</td>\n",
       "      <td>81</td>\n",
       "      <td>96</td>\n",
       "      <td>67</td>\n",
       "    </tr>\n",
       "    <tr>\n",
       "      <td>1</td>\n",
       "      <td>Asad</td>\n",
       "      <td>22</td>\n",
       "      <td>67</td>\n",
       "      <td>87</td>\n",
       "      <td>67</td>\n",
       "      <td>85</td>\n",
       "      <td>95</td>\n",
       "      <td>48</td>\n",
       "    </tr>\n",
       "    <tr>\n",
       "      <td>2</td>\n",
       "      <td>Fahad</td>\n",
       "      <td>33</td>\n",
       "      <td>89</td>\n",
       "      <td>67</td>\n",
       "      <td>89</td>\n",
       "      <td>89</td>\n",
       "      <td>84</td>\n",
       "      <td>45</td>\n",
       "    </tr>\n",
       "    <tr>\n",
       "      <td>3</td>\n",
       "      <td>Zeeshan</td>\n",
       "      <td>44</td>\n",
       "      <td>90</td>\n",
       "      <td>74</td>\n",
       "      <td>87</td>\n",
       "      <td>87</td>\n",
       "      <td>85</td>\n",
       "      <td>98</td>\n",
       "    </tr>\n",
       "    <tr>\n",
       "      <td>4</td>\n",
       "      <td>Shan</td>\n",
       "      <td>55</td>\n",
       "      <td>91</td>\n",
       "      <td>78</td>\n",
       "      <td>67</td>\n",
       "      <td>41</td>\n",
       "      <td>82</td>\n",
       "      <td>75</td>\n",
       "    </tr>\n",
       "    <tr>\n",
       "      <td>5</td>\n",
       "      <td>Shoaib</td>\n",
       "      <td>66</td>\n",
       "      <td>72</td>\n",
       "      <td>90</td>\n",
       "      <td>90</td>\n",
       "      <td>45</td>\n",
       "      <td>81</td>\n",
       "      <td>71</td>\n",
       "    </tr>\n",
       "    <tr>\n",
       "      <td>6</td>\n",
       "      <td>Ali</td>\n",
       "      <td>77</td>\n",
       "      <td>76</td>\n",
       "      <td>76</td>\n",
       "      <td>65</td>\n",
       "      <td>96</td>\n",
       "      <td>74</td>\n",
       "      <td>70</td>\n",
       "    </tr>\n",
       "    <tr>\n",
       "      <td>7</td>\n",
       "      <td>Hassan</td>\n",
       "      <td>88</td>\n",
       "      <td>89</td>\n",
       "      <td>78</td>\n",
       "      <td>67</td>\n",
       "      <td>56</td>\n",
       "      <td>75</td>\n",
       "      <td>60</td>\n",
       "    </tr>\n",
       "    <tr>\n",
       "      <td>8</td>\n",
       "      <td>Yasir</td>\n",
       "      <td>99</td>\n",
       "      <td>67</td>\n",
       "      <td>90</td>\n",
       "      <td>56</td>\n",
       "      <td>93</td>\n",
       "      <td>96</td>\n",
       "      <td>90</td>\n",
       "    </tr>\n",
       "    <tr>\n",
       "      <td>9</td>\n",
       "      <td>Junaid</td>\n",
       "      <td>111</td>\n",
       "      <td>85</td>\n",
       "      <td>54</td>\n",
       "      <td>90</td>\n",
       "      <td>78</td>\n",
       "      <td>90</td>\n",
       "      <td>93</td>\n",
       "    </tr>\n",
       "  </tbody>\n",
       "</table>\n",
       "</div>"
      ],
      "text/plain": [
       "      name  roll  python  excel  power_bi  pandas  machine_learning  \\\n",
       "0    Nasir    11      78     89        45      81                96   \n",
       "1     Asad    22      67     87        67      85                95   \n",
       "2    Fahad    33      89     67        89      89                84   \n",
       "3  Zeeshan    44      90     74        87      87                85   \n",
       "4     Shan    55      91     78        67      41                82   \n",
       "5   Shoaib    66      72     90        90      45                81   \n",
       "6      Ali    77      76     76        65      96                74   \n",
       "7   Hassan    88      89     78        67      56                75   \n",
       "8    Yasir    99      67     90        56      93                96   \n",
       "9   Junaid   111      85     54        90      78                90   \n",
       "\n",
       "   statistics  \n",
       "0          67  \n",
       "1          48  \n",
       "2          45  \n",
       "3          98  \n",
       "4          75  \n",
       "5          71  \n",
       "6          70  \n",
       "7          60  \n",
       "8          90  \n",
       "9          93  "
      ]
     },
     "execution_count": 16,
     "metadata": {},
     "output_type": "execute_result"
    }
   ],
   "source": [
    "df"
   ]
  },
  {
   "cell_type": "code",
   "execution_count": null,
   "metadata": {},
   "outputs": [],
   "source": [
    "df."
   ]
  }
 ],
 "metadata": {
  "kernelspec": {
   "display_name": "Python 3",
   "language": "python",
   "name": "python3"
  },
  "language_info": {
   "codemirror_mode": {
    "name": "ipython",
    "version": 3
   },
   "file_extension": ".py",
   "mimetype": "text/x-python",
   "name": "python",
   "nbconvert_exporter": "python",
   "pygments_lexer": "ipython3",
   "version": "3.7.4"
  }
 },
 "nbformat": 4,
 "nbformat_minor": 5
}
