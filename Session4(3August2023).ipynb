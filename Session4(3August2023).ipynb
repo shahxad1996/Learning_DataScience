{
 "cells": [
  {
   "cell_type": "markdown",
   "id": "6dd17298",
   "metadata": {},
   "source": [
    "# Control Flow \n",
    "    - Conditional statments \n",
    "         - if statement\n",
    "         - if else\n",
    "         - elif \n",
    "         "
   ]
  },
  {
   "cell_type": "code",
   "execution_count": 5,
   "id": "a99c5ac1",
   "metadata": {},
   "outputs": [
    {
     "name": "stdout",
     "output_type": "stream",
     "text": [
      "Enter a number23\n",
      "Eneter another number45\n",
      "Num1 is not greater than num2\n"
     ]
    }
   ],
   "source": [
    "num1 = int(input(\"Enter a number\"))\n",
    "num2 = int(input(\"Eneter another number\"))\n",
    "\n",
    "if  num1 > num2:\n",
    "    print(\"Num1 is greater than num2\")\n",
    "    \n",
    "else:\n",
    "    print(\"Num1 is not greater than num2\")"
   ]
  },
  {
   "cell_type": "code",
   "execution_count": 9,
   "id": "892e508c",
   "metadata": {},
   "outputs": [
    {
     "name": "stdout",
     "output_type": "stream",
     "text": [
      "Enter a number4565656\n"
     ]
    },
    {
     "data": {
      "text/plain": [
       "6"
      ]
     },
     "execution_count": 9,
     "metadata": {},
     "output_type": "execute_result"
    }
   ],
   "source": [
    "num1 = int(input(\"Enter a number\"))\n",
    "num1 = str(num1)\n",
    "int(num1[-1])"
   ]
  },
  {
   "cell_type": "code",
   "execution_count": 11,
   "id": "4d142994",
   "metadata": {},
   "outputs": [
    {
     "name": "stdout",
     "output_type": "stream",
     "text": [
      "Enter a number45454\n"
     ]
    },
    {
     "data": {
      "text/plain": [
       "4"
      ]
     },
     "execution_count": 11,
     "metadata": {},
     "output_type": "execute_result"
    }
   ],
   "source": [
    "int(input(\"Enter a number\")[-1])"
   ]
  },
  {
   "cell_type": "code",
   "execution_count": 15,
   "id": "ac5cd49a",
   "metadata": {},
   "outputs": [
    {
     "data": {
      "text/plain": [
       "0"
      ]
     },
     "execution_count": 15,
     "metadata": {},
     "output_type": "execute_result"
    }
   ],
   "source": [
    "# to get the last digit of a number\n",
    "# if we take modulus with 10 itwill return last digit\n",
    "13235465760%10"
   ]
  },
  {
   "cell_type": "code",
   "execution_count": 17,
   "id": "f0f00e79",
   "metadata": {},
   "outputs": [
    {
     "data": {
      "text/plain": [
       "69"
      ]
     },
     "execution_count": 17,
     "metadata": {},
     "output_type": "execute_result"
    }
   ],
   "source": [
    "# to get the last two digits of a number\n",
    "# if we take modulus with 100 it will return last two digits\n",
    "13235465769%100"
   ]
  },
  {
   "cell_type": "code",
   "execution_count": null,
   "id": "194ffa58",
   "metadata": {},
   "outputs": [],
   "source": [
    "username =input(\"Enter username\")\n",
    "if len(username)>10:\n",
    "    print(\"Bigname\")\n",
    "else:\n",
    "    print(\"ok\")\n",
    "    \n",
    "\n"
   ]
  },
  {
   "cell_type": "code",
   "execution_count": 21,
   "id": "c05faacf",
   "metadata": {},
   "outputs": [
    {
     "name": "stdout",
     "output_type": "stream",
     "text": [
      "nasir hussain\n"
     ]
    },
    {
     "data": {
      "text/plain": [
       "'Too big'"
      ]
     },
     "execution_count": 21,
     "metadata": {},
     "output_type": "execute_result"
    }
   ],
   "source": [
    "\"Too big\" if len(input())>10  else \"Ok\""
   ]
  },
  {
   "cell_type": "code",
   "execution_count": 22,
   "id": "7a319148",
   "metadata": {},
   "outputs": [],
   "source": [
    "import random"
   ]
  },
  {
   "cell_type": "code",
   "execution_count": 34,
   "id": "9281363d",
   "metadata": {},
   "outputs": [
    {
     "name": "stdout",
     "output_type": "stream",
     "text": [
      "Enter your guess number 1-103\n",
      "you guessed 3 You win!\n"
     ]
    }
   ],
   "source": [
    "guess = int(input(\"Enter your guess number 1-10\"))\n",
    "num = random.randint(1,10)\n",
    "if guess == num:\n",
    "    print(f\"you guessed {guess} You win!\")\n",
    "else:\n",
    "    print(f\"You guessed{guess} but luck number was {num}. Try Again\")\n"
   ]
  },
  {
   "cell_type": "code",
   "execution_count": 39,
   "id": "e2e4963f",
   "metadata": {},
   "outputs": [
    {
     "name": "stdout",
     "output_type": "stream",
     "text": [
      "name: Nasir\n",
      "my name is Nasir\n"
     ]
    }
   ],
   "source": [
    "name = input('name: ')\n",
    "print(f\"my name is {name}\")"
   ]
  },
  {
   "cell_type": "code",
   "execution_count": 45,
   "id": "168193b6",
   "metadata": {},
   "outputs": [
    {
     "name": "stdout",
     "output_type": "stream",
     "text": [
      "Enter Budget: 1220\n",
      "Mutton\n"
     ]
    }
   ],
   "source": [
    "# buy 12 eggs if budget are less than 200 \n",
    "#warna buy 1 kg meat if price less than 1000\n",
    "# roza\n",
    "budget = int(input(\"Enter Budget: \"))\n",
    "if budget>1000:\n",
    "    print(\"Mutton\")\n",
    "elif budget >500:\n",
    "    print(\"Eggs\")\n",
    "else:\n",
    "    print('Roza')\n",
    "    "
   ]
  },
  {
   "cell_type": "code",
   "execution_count": 43,
   "id": "d09ad460",
   "metadata": {},
   "outputs": [
    {
     "name": "stdout",
     "output_type": "stream",
     "text": [
      "Enter a numner4.5\n",
      "Short\n"
     ]
    }
   ],
   "source": [
    "height = float(input(\"Enter a numner\"))\n",
    "\n",
    "# Long  >6\n",
    "# Average>5\n",
    "# Short>\n",
    "if height > 6:\n",
    "    print(\"Tall man\")\n",
    "elif height >5:\n",
    "    print('Average')\n",
    "else:\n",
    "    print(\"Short\")"
   ]
  },
  {
   "cell_type": "markdown",
   "id": "7a66452c",
   "metadata": {},
   "source": [
    "# Lunch Break till 2pm"
   ]
  },
  {
   "cell_type": "code",
   "execution_count": null,
   "id": "0e76d57d",
   "metadata": {},
   "outputs": [],
   "source": []
  }
 ],
 "metadata": {
  "kernelspec": {
   "display_name": "Python 3",
   "language": "python",
   "name": "python3"
  },
  "language_info": {
   "codemirror_mode": {
    "name": "ipython",
    "version": 3
   },
   "file_extension": ".py",
   "mimetype": "text/x-python",
   "name": "python",
   "nbconvert_exporter": "python",
   "pygments_lexer": "ipython3",
   "version": "3.7.4"
  }
 },
 "nbformat": 4,
 "nbformat_minor": 5
}
